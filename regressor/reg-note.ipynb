{
  "cells": [
    {
      "cell_type": "code",
      "execution_count": 1,
      "metadata": {
        "id": "4dKWMmQpJRxA"
      },
      "outputs": [],
      "source": [
        "import pandas as pd"
      ]
    },
    {
      "cell_type": "code",
      "execution_count": 2,
      "metadata": {
        "id": "PCoiQKWqQUPI"
      },
      "outputs": [],
      "source": [
        "df = pd.read_csv(\"../pycsv/pcars_data.csv\")"
      ]
    },
    {
      "cell_type": "code",
      "execution_count": 3,
      "metadata": {
        "colab": {
          "base_uri": "https://localhost:8080/"
        },
        "id": "suxbjiBxV_L4",
        "outputId": "76c74f6e-ed62-49c5-aebd-bdd9548633b0"
      },
      "outputs": [
        {
          "name": "stdout",
          "output_type": "stream",
          "text": [
            "<class 'pandas.core.frame.DataFrame'>\n",
            "RangeIndex: 1062 entries, 0 to 1061\n",
            "Data columns (total 64 columns):\n",
            " #   Column                     Non-Null Count  Dtype \n",
            "---  ------                     --------------  ----- \n",
            " 0   Unnamed: 0                 1062 non-null   int64 \n",
            " 1   id                         1062 non-null   int64 \n",
            " 2   year                       1062 non-null   int64 \n",
            " 3   abi                        1062 non-null   int64 \n",
            " 4   albaluyi                   1062 non-null   int64 \n",
            " 5   atlasi                     1062 non-null   int64 \n",
            " 6   bademjani                  1062 non-null   int64 \n",
            " 7   boronz                     1062 non-null   int64 \n",
            " 8   bezh                       1062 non-null   int64 \n",
            " 9   banafsh                    1062 non-null   int64 \n",
            " 10  poostpiyazi                1062 non-null   int64 \n",
            " 11  titanium                   1062 non-null   int64 \n",
            " 12  khakestari                 1062 non-null   int64 \n",
            " 13  khaki                      1062 non-null   int64 \n",
            " 14  dolfini                    1062 non-null   int64 \n",
            " 15  zoghali                    1062 non-null   int64 \n",
            " 16  zard                       1062 non-null   int64 \n",
            " 17  zereshki                   1062 non-null   int64 \n",
            " 18  zeytooni                   1062 non-null   int64 \n",
            " 19  sabz                       1062 non-null   int64 \n",
            " 20  sorbi                      1062 non-null   int64 \n",
            " 21  sormeyi                    1062 non-null   int64 \n",
            " 22  sefid                      1062 non-null   int64 \n",
            " 23  sefidsadafi                1062 non-null   int64 \n",
            " 24  talayi                     1062 non-null   int64 \n",
            " 25  toosi                      1062 non-null   int64 \n",
            " 26  adasi                      1062 non-null   int64 \n",
            " 27  annabi                     1062 non-null   int64 \n",
            " 28  ghermez                    1062 non-null   int64 \n",
            " 29  ghahveyi                   1062 non-null   int64 \n",
            " 30  carbonblack                1062 non-null   int64 \n",
            " 31  kerem                      1062 non-null   int64 \n",
            " 32  gilasi                     1062 non-null   int64 \n",
            " 33  mesi                       1062 non-null   int64 \n",
            " 34  meshki                     1062 non-null   int64 \n",
            " 35  moka                       1062 non-null   int64 \n",
            " 36  narenji                    1062 non-null   int64 \n",
            " 37  nograbi                    1062 non-null   int64 \n",
            " 38  noghreyi                   1062 non-null   int64 \n",
            " 39  nookmedadi                 1062 non-null   int64 \n",
            " 40  yashmi                     1062 non-null   int64 \n",
            " 41  usage_km                   1062 non-null   int64 \n",
            " 42  badanesalem                1062 non-null   int64 \n",
            " 43  khatkhashjozi              1062 non-null   int64 \n",
            " 44  safkaribirang              1062 non-null   int64 \n",
            " 45  rangshodegi                1062 non-null   int64 \n",
            " 46  dorrang                    1062 non-null   int64 \n",
            " 47  tamamrang                  1062 non-null   int64 \n",
            " 48  tasadofi                   1062 non-null   int64 \n",
            " 49  oraghi                     1062 non-null   int64 \n",
            " 50  cash_cost                  1062 non-null   int64 \n",
            " 51  motorsalem                 1062 non-null   int64 \n",
            " 52  niyazbetaamir              1062 non-null   int64 \n",
            " 53  taavizshode                1062 non-null   int64 \n",
            " 54  rearchasissalem            1062 non-null   int64 \n",
            " 55  rearzarbekhorde            1062 non-null   int64 \n",
            " 56  rearchasisrangshode        1062 non-null   int64 \n",
            " 57  frontchasissalem           1062 non-null   int64 \n",
            " 58  frontzarbekhorde           1062 non-null   int64 \n",
            " 59  frontchasisrangshode       1062 non-null   int64 \n",
            " 60  third_party_insurance_due  1062 non-null   int64 \n",
            " 61  dandeyi                    1062 non-null   int64 \n",
            " 62  automatic                  1062 non-null   int64 \n",
            " 63  car_token                  1062 non-null   object\n",
            "dtypes: int64(63), object(1)\n",
            "memory usage: 531.1+ KB\n"
          ]
        }
      ],
      "source": [
        "df.info()"
      ]
    },
    {
      "cell_type": "code",
      "execution_count": 4,
      "metadata": {
        "colab": {
          "base_uri": "https://localhost:8080/",
          "height": 317
        },
        "id": "1ogbZ0p-Qn4F",
        "outputId": "c10b865b-d90e-47f1-f5ab-afbeac4fa7ec"
      },
      "outputs": [
        {
          "data": {
            "text/html": [
              "<div>\n",
              "<style scoped>\n",
              "    .dataframe tbody tr th:only-of-type {\n",
              "        vertical-align: middle;\n",
              "    }\n",
              "\n",
              "    .dataframe tbody tr th {\n",
              "        vertical-align: top;\n",
              "    }\n",
              "\n",
              "    .dataframe thead th {\n",
              "        text-align: right;\n",
              "    }\n",
              "</style>\n",
              "<table border=\"1\" class=\"dataframe\">\n",
              "  <thead>\n",
              "    <tr style=\"text-align: right;\">\n",
              "      <th></th>\n",
              "      <th>Unnamed: 0</th>\n",
              "      <th>id</th>\n",
              "      <th>year</th>\n",
              "      <th>abi</th>\n",
              "      <th>albaluyi</th>\n",
              "      <th>atlasi</th>\n",
              "      <th>bademjani</th>\n",
              "      <th>boronz</th>\n",
              "      <th>bezh</th>\n",
              "      <th>banafsh</th>\n",
              "      <th>...</th>\n",
              "      <th>rearchasissalem</th>\n",
              "      <th>rearzarbekhorde</th>\n",
              "      <th>rearchasisrangshode</th>\n",
              "      <th>frontchasissalem</th>\n",
              "      <th>frontzarbekhorde</th>\n",
              "      <th>frontchasisrangshode</th>\n",
              "      <th>third_party_insurance_due</th>\n",
              "      <th>dandeyi</th>\n",
              "      <th>automatic</th>\n",
              "      <th>car_token</th>\n",
              "    </tr>\n",
              "  </thead>\n",
              "  <tbody>\n",
              "    <tr>\n",
              "      <th>0</th>\n",
              "      <td>0</td>\n",
              "      <td>1</td>\n",
              "      <td>1390</td>\n",
              "      <td>0</td>\n",
              "      <td>0</td>\n",
              "      <td>0</td>\n",
              "      <td>0</td>\n",
              "      <td>0</td>\n",
              "      <td>0</td>\n",
              "      <td>0</td>\n",
              "      <td>...</td>\n",
              "      <td>1</td>\n",
              "      <td>0</td>\n",
              "      <td>0</td>\n",
              "      <td>1</td>\n",
              "      <td>0</td>\n",
              "      <td>0</td>\n",
              "      <td>1</td>\n",
              "      <td>1</td>\n",
              "      <td>0</td>\n",
              "      <td>wYT6WpcF</td>\n",
              "    </tr>\n",
              "    <tr>\n",
              "      <th>1</th>\n",
              "      <td>1</td>\n",
              "      <td>2</td>\n",
              "      <td>1385</td>\n",
              "      <td>0</td>\n",
              "      <td>0</td>\n",
              "      <td>0</td>\n",
              "      <td>0</td>\n",
              "      <td>0</td>\n",
              "      <td>1</td>\n",
              "      <td>0</td>\n",
              "      <td>...</td>\n",
              "      <td>1</td>\n",
              "      <td>0</td>\n",
              "      <td>0</td>\n",
              "      <td>1</td>\n",
              "      <td>0</td>\n",
              "      <td>0</td>\n",
              "      <td>12</td>\n",
              "      <td>1</td>\n",
              "      <td>0</td>\n",
              "      <td>wYT-21QY</td>\n",
              "    </tr>\n",
              "    <tr>\n",
              "      <th>2</th>\n",
              "      <td>2</td>\n",
              "      <td>3</td>\n",
              "      <td>1387</td>\n",
              "      <td>0</td>\n",
              "      <td>0</td>\n",
              "      <td>0</td>\n",
              "      <td>0</td>\n",
              "      <td>0</td>\n",
              "      <td>0</td>\n",
              "      <td>0</td>\n",
              "      <td>...</td>\n",
              "      <td>1</td>\n",
              "      <td>0</td>\n",
              "      <td>0</td>\n",
              "      <td>1</td>\n",
              "      <td>0</td>\n",
              "      <td>0</td>\n",
              "      <td>4</td>\n",
              "      <td>1</td>\n",
              "      <td>0</td>\n",
              "      <td>wYTCnAjN</td>\n",
              "    </tr>\n",
              "    <tr>\n",
              "      <th>3</th>\n",
              "      <td>3</td>\n",
              "      <td>4</td>\n",
              "      <td>1387</td>\n",
              "      <td>0</td>\n",
              "      <td>0</td>\n",
              "      <td>0</td>\n",
              "      <td>0</td>\n",
              "      <td>0</td>\n",
              "      <td>1</td>\n",
              "      <td>0</td>\n",
              "      <td>...</td>\n",
              "      <td>1</td>\n",
              "      <td>0</td>\n",
              "      <td>0</td>\n",
              "      <td>1</td>\n",
              "      <td>0</td>\n",
              "      <td>0</td>\n",
              "      <td>9</td>\n",
              "      <td>1</td>\n",
              "      <td>0</td>\n",
              "      <td>wYT229GP</td>\n",
              "    </tr>\n",
              "    <tr>\n",
              "      <th>4</th>\n",
              "      <td>4</td>\n",
              "      <td>5</td>\n",
              "      <td>1389</td>\n",
              "      <td>0</td>\n",
              "      <td>0</td>\n",
              "      <td>0</td>\n",
              "      <td>0</td>\n",
              "      <td>0</td>\n",
              "      <td>0</td>\n",
              "      <td>0</td>\n",
              "      <td>...</td>\n",
              "      <td>1</td>\n",
              "      <td>0</td>\n",
              "      <td>0</td>\n",
              "      <td>1</td>\n",
              "      <td>0</td>\n",
              "      <td>0</td>\n",
              "      <td>7</td>\n",
              "      <td>1</td>\n",
              "      <td>0</td>\n",
              "      <td>wYTq2bl5</td>\n",
              "    </tr>\n",
              "  </tbody>\n",
              "</table>\n",
              "<p>5 rows × 64 columns</p>\n",
              "</div>"
            ],
            "text/plain": [
              "   Unnamed: 0  id  year  abi  albaluyi  atlasi  bademjani  boronz  bezh  \\\n",
              "0           0   1  1390    0         0       0          0       0     0   \n",
              "1           1   2  1385    0         0       0          0       0     1   \n",
              "2           2   3  1387    0         0       0          0       0     0   \n",
              "3           3   4  1387    0         0       0          0       0     1   \n",
              "4           4   5  1389    0         0       0          0       0     0   \n",
              "\n",
              "   banafsh  ...  rearchasissalem  rearzarbekhorde  rearchasisrangshode  \\\n",
              "0        0  ...                1                0                    0   \n",
              "1        0  ...                1                0                    0   \n",
              "2        0  ...                1                0                    0   \n",
              "3        0  ...                1                0                    0   \n",
              "4        0  ...                1                0                    0   \n",
              "\n",
              "   frontchasissalem  frontzarbekhorde  frontchasisrangshode  \\\n",
              "0                 1                 0                     0   \n",
              "1                 1                 0                     0   \n",
              "2                 1                 0                     0   \n",
              "3                 1                 0                     0   \n",
              "4                 1                 0                     0   \n",
              "\n",
              "   third_party_insurance_due  dandeyi  automatic  car_token  \n",
              "0                          1        1          0   wYT6WpcF  \n",
              "1                         12        1          0   wYT-21QY  \n",
              "2                          4        1          0   wYTCnAjN  \n",
              "3                          9        1          0   wYT229GP  \n",
              "4                          7        1          0   wYTq2bl5  \n",
              "\n",
              "[5 rows x 64 columns]"
            ]
          },
          "execution_count": 4,
          "metadata": {},
          "output_type": "execute_result"
        }
      ],
      "source": [
        "df.head()"
      ]
    },
    {
      "cell_type": "code",
      "execution_count": 5,
      "metadata": {
        "colab": {
          "base_uri": "https://localhost:8080/"
        },
        "id": "cZh3XsF-QdVB",
        "outputId": "69140b6c-0176-4516-b1bd-e8b08696427e"
      },
      "outputs": [
        {
          "data": {
            "text/plain": [
              "Unnamed: 0                   0\n",
              "id                           0\n",
              "year                         0\n",
              "abi                          0\n",
              "albaluyi                     0\n",
              "                            ..\n",
              "frontchasisrangshode         0\n",
              "third_party_insurance_due    0\n",
              "dandeyi                      0\n",
              "automatic                    0\n",
              "car_token                    0\n",
              "Length: 64, dtype: int64"
            ]
          },
          "execution_count": 5,
          "metadata": {},
          "output_type": "execute_result"
        }
      ],
      "source": [
        "df.isna().sum()"
      ]
    },
    {
      "cell_type": "code",
      "execution_count": 6,
      "metadata": {
        "id": "aVznI_NURMts"
      },
      "outputs": [],
      "source": [
        "x = df.drop(labels=\"cash_cost\", axis=1).iloc[:,2:-1]\n",
        "y = df['cash_cost']"
      ]
    },
    {
      "cell_type": "code",
      "execution_count": 7,
      "metadata": {
        "colab": {
          "base_uri": "https://localhost:8080/",
          "height": 488
        },
        "id": "sguwSVE7Rb1e",
        "outputId": "c4abff6d-a1c9-4d49-cdb7-45799976dd20"
      },
      "outputs": [
        {
          "data": {
            "text/html": [
              "<div>\n",
              "<style scoped>\n",
              "    .dataframe tbody tr th:only-of-type {\n",
              "        vertical-align: middle;\n",
              "    }\n",
              "\n",
              "    .dataframe tbody tr th {\n",
              "        vertical-align: top;\n",
              "    }\n",
              "\n",
              "    .dataframe thead th {\n",
              "        text-align: right;\n",
              "    }\n",
              "</style>\n",
              "<table border=\"1\" class=\"dataframe\">\n",
              "  <thead>\n",
              "    <tr style=\"text-align: right;\">\n",
              "      <th></th>\n",
              "      <th>year</th>\n",
              "      <th>abi</th>\n",
              "      <th>albaluyi</th>\n",
              "      <th>atlasi</th>\n",
              "      <th>bademjani</th>\n",
              "      <th>boronz</th>\n",
              "      <th>bezh</th>\n",
              "      <th>banafsh</th>\n",
              "      <th>poostpiyazi</th>\n",
              "      <th>titanium</th>\n",
              "      <th>...</th>\n",
              "      <th>taavizshode</th>\n",
              "      <th>rearchasissalem</th>\n",
              "      <th>rearzarbekhorde</th>\n",
              "      <th>rearchasisrangshode</th>\n",
              "      <th>frontchasissalem</th>\n",
              "      <th>frontzarbekhorde</th>\n",
              "      <th>frontchasisrangshode</th>\n",
              "      <th>third_party_insurance_due</th>\n",
              "      <th>dandeyi</th>\n",
              "      <th>automatic</th>\n",
              "    </tr>\n",
              "  </thead>\n",
              "  <tbody>\n",
              "    <tr>\n",
              "      <th>0</th>\n",
              "      <td>1390</td>\n",
              "      <td>0</td>\n",
              "      <td>0</td>\n",
              "      <td>0</td>\n",
              "      <td>0</td>\n",
              "      <td>0</td>\n",
              "      <td>0</td>\n",
              "      <td>0</td>\n",
              "      <td>0</td>\n",
              "      <td>0</td>\n",
              "      <td>...</td>\n",
              "      <td>0</td>\n",
              "      <td>1</td>\n",
              "      <td>0</td>\n",
              "      <td>0</td>\n",
              "      <td>1</td>\n",
              "      <td>0</td>\n",
              "      <td>0</td>\n",
              "      <td>1</td>\n",
              "      <td>1</td>\n",
              "      <td>0</td>\n",
              "    </tr>\n",
              "    <tr>\n",
              "      <th>1</th>\n",
              "      <td>1385</td>\n",
              "      <td>0</td>\n",
              "      <td>0</td>\n",
              "      <td>0</td>\n",
              "      <td>0</td>\n",
              "      <td>0</td>\n",
              "      <td>1</td>\n",
              "      <td>0</td>\n",
              "      <td>0</td>\n",
              "      <td>0</td>\n",
              "      <td>...</td>\n",
              "      <td>0</td>\n",
              "      <td>1</td>\n",
              "      <td>0</td>\n",
              "      <td>0</td>\n",
              "      <td>1</td>\n",
              "      <td>0</td>\n",
              "      <td>0</td>\n",
              "      <td>12</td>\n",
              "      <td>1</td>\n",
              "      <td>0</td>\n",
              "    </tr>\n",
              "    <tr>\n",
              "      <th>2</th>\n",
              "      <td>1387</td>\n",
              "      <td>0</td>\n",
              "      <td>0</td>\n",
              "      <td>0</td>\n",
              "      <td>0</td>\n",
              "      <td>0</td>\n",
              "      <td>0</td>\n",
              "      <td>0</td>\n",
              "      <td>0</td>\n",
              "      <td>0</td>\n",
              "      <td>...</td>\n",
              "      <td>0</td>\n",
              "      <td>1</td>\n",
              "      <td>0</td>\n",
              "      <td>0</td>\n",
              "      <td>1</td>\n",
              "      <td>0</td>\n",
              "      <td>0</td>\n",
              "      <td>4</td>\n",
              "      <td>1</td>\n",
              "      <td>0</td>\n",
              "    </tr>\n",
              "    <tr>\n",
              "      <th>3</th>\n",
              "      <td>1387</td>\n",
              "      <td>0</td>\n",
              "      <td>0</td>\n",
              "      <td>0</td>\n",
              "      <td>0</td>\n",
              "      <td>0</td>\n",
              "      <td>1</td>\n",
              "      <td>0</td>\n",
              "      <td>0</td>\n",
              "      <td>0</td>\n",
              "      <td>...</td>\n",
              "      <td>0</td>\n",
              "      <td>1</td>\n",
              "      <td>0</td>\n",
              "      <td>0</td>\n",
              "      <td>1</td>\n",
              "      <td>0</td>\n",
              "      <td>0</td>\n",
              "      <td>9</td>\n",
              "      <td>1</td>\n",
              "      <td>0</td>\n",
              "    </tr>\n",
              "    <tr>\n",
              "      <th>4</th>\n",
              "      <td>1389</td>\n",
              "      <td>0</td>\n",
              "      <td>0</td>\n",
              "      <td>0</td>\n",
              "      <td>0</td>\n",
              "      <td>0</td>\n",
              "      <td>0</td>\n",
              "      <td>0</td>\n",
              "      <td>0</td>\n",
              "      <td>0</td>\n",
              "      <td>...</td>\n",
              "      <td>0</td>\n",
              "      <td>1</td>\n",
              "      <td>0</td>\n",
              "      <td>0</td>\n",
              "      <td>1</td>\n",
              "      <td>0</td>\n",
              "      <td>0</td>\n",
              "      <td>7</td>\n",
              "      <td>1</td>\n",
              "      <td>0</td>\n",
              "    </tr>\n",
              "    <tr>\n",
              "      <th>...</th>\n",
              "      <td>...</td>\n",
              "      <td>...</td>\n",
              "      <td>...</td>\n",
              "      <td>...</td>\n",
              "      <td>...</td>\n",
              "      <td>...</td>\n",
              "      <td>...</td>\n",
              "      <td>...</td>\n",
              "      <td>...</td>\n",
              "      <td>...</td>\n",
              "      <td>...</td>\n",
              "      <td>...</td>\n",
              "      <td>...</td>\n",
              "      <td>...</td>\n",
              "      <td>...</td>\n",
              "      <td>...</td>\n",
              "      <td>...</td>\n",
              "      <td>...</td>\n",
              "      <td>...</td>\n",
              "      <td>...</td>\n",
              "      <td>...</td>\n",
              "    </tr>\n",
              "    <tr>\n",
              "      <th>1057</th>\n",
              "      <td>1384</td>\n",
              "      <td>0</td>\n",
              "      <td>0</td>\n",
              "      <td>0</td>\n",
              "      <td>0</td>\n",
              "      <td>0</td>\n",
              "      <td>0</td>\n",
              "      <td>0</td>\n",
              "      <td>0</td>\n",
              "      <td>0</td>\n",
              "      <td>...</td>\n",
              "      <td>0</td>\n",
              "      <td>1</td>\n",
              "      <td>0</td>\n",
              "      <td>0</td>\n",
              "      <td>1</td>\n",
              "      <td>0</td>\n",
              "      <td>0</td>\n",
              "      <td>6</td>\n",
              "      <td>1</td>\n",
              "      <td>0</td>\n",
              "    </tr>\n",
              "    <tr>\n",
              "      <th>1058</th>\n",
              "      <td>1385</td>\n",
              "      <td>0</td>\n",
              "      <td>0</td>\n",
              "      <td>0</td>\n",
              "      <td>0</td>\n",
              "      <td>0</td>\n",
              "      <td>0</td>\n",
              "      <td>0</td>\n",
              "      <td>0</td>\n",
              "      <td>0</td>\n",
              "      <td>...</td>\n",
              "      <td>0</td>\n",
              "      <td>1</td>\n",
              "      <td>0</td>\n",
              "      <td>0</td>\n",
              "      <td>1</td>\n",
              "      <td>0</td>\n",
              "      <td>0</td>\n",
              "      <td>8</td>\n",
              "      <td>1</td>\n",
              "      <td>0</td>\n",
              "    </tr>\n",
              "    <tr>\n",
              "      <th>1059</th>\n",
              "      <td>1388</td>\n",
              "      <td>0</td>\n",
              "      <td>0</td>\n",
              "      <td>0</td>\n",
              "      <td>0</td>\n",
              "      <td>0</td>\n",
              "      <td>0</td>\n",
              "      <td>0</td>\n",
              "      <td>0</td>\n",
              "      <td>0</td>\n",
              "      <td>...</td>\n",
              "      <td>0</td>\n",
              "      <td>1</td>\n",
              "      <td>0</td>\n",
              "      <td>0</td>\n",
              "      <td>1</td>\n",
              "      <td>0</td>\n",
              "      <td>0</td>\n",
              "      <td>9</td>\n",
              "      <td>1</td>\n",
              "      <td>0</td>\n",
              "    </tr>\n",
              "    <tr>\n",
              "      <th>1060</th>\n",
              "      <td>1385</td>\n",
              "      <td>0</td>\n",
              "      <td>0</td>\n",
              "      <td>0</td>\n",
              "      <td>0</td>\n",
              "      <td>0</td>\n",
              "      <td>0</td>\n",
              "      <td>0</td>\n",
              "      <td>0</td>\n",
              "      <td>0</td>\n",
              "      <td>...</td>\n",
              "      <td>0</td>\n",
              "      <td>1</td>\n",
              "      <td>0</td>\n",
              "      <td>0</td>\n",
              "      <td>1</td>\n",
              "      <td>0</td>\n",
              "      <td>0</td>\n",
              "      <td>3</td>\n",
              "      <td>1</td>\n",
              "      <td>0</td>\n",
              "    </tr>\n",
              "    <tr>\n",
              "      <th>1061</th>\n",
              "      <td>1388</td>\n",
              "      <td>0</td>\n",
              "      <td>0</td>\n",
              "      <td>0</td>\n",
              "      <td>0</td>\n",
              "      <td>0</td>\n",
              "      <td>0</td>\n",
              "      <td>0</td>\n",
              "      <td>0</td>\n",
              "      <td>0</td>\n",
              "      <td>...</td>\n",
              "      <td>0</td>\n",
              "      <td>1</td>\n",
              "      <td>0</td>\n",
              "      <td>0</td>\n",
              "      <td>1</td>\n",
              "      <td>0</td>\n",
              "      <td>0</td>\n",
              "      <td>11</td>\n",
              "      <td>1</td>\n",
              "      <td>0</td>\n",
              "    </tr>\n",
              "  </tbody>\n",
              "</table>\n",
              "<p>1062 rows × 60 columns</p>\n",
              "</div>"
            ],
            "text/plain": [
              "      year  abi  albaluyi  atlasi  bademjani  boronz  bezh  banafsh  \\\n",
              "0     1390    0         0       0          0       0     0        0   \n",
              "1     1385    0         0       0          0       0     1        0   \n",
              "2     1387    0         0       0          0       0     0        0   \n",
              "3     1387    0         0       0          0       0     1        0   \n",
              "4     1389    0         0       0          0       0     0        0   \n",
              "...    ...  ...       ...     ...        ...     ...   ...      ...   \n",
              "1057  1384    0         0       0          0       0     0        0   \n",
              "1058  1385    0         0       0          0       0     0        0   \n",
              "1059  1388    0         0       0          0       0     0        0   \n",
              "1060  1385    0         0       0          0       0     0        0   \n",
              "1061  1388    0         0       0          0       0     0        0   \n",
              "\n",
              "      poostpiyazi  titanium  ...  taavizshode  rearchasissalem  \\\n",
              "0               0         0  ...            0                1   \n",
              "1               0         0  ...            0                1   \n",
              "2               0         0  ...            0                1   \n",
              "3               0         0  ...            0                1   \n",
              "4               0         0  ...            0                1   \n",
              "...           ...       ...  ...          ...              ...   \n",
              "1057            0         0  ...            0                1   \n",
              "1058            0         0  ...            0                1   \n",
              "1059            0         0  ...            0                1   \n",
              "1060            0         0  ...            0                1   \n",
              "1061            0         0  ...            0                1   \n",
              "\n",
              "      rearzarbekhorde  rearchasisrangshode  frontchasissalem  \\\n",
              "0                   0                    0                 1   \n",
              "1                   0                    0                 1   \n",
              "2                   0                    0                 1   \n",
              "3                   0                    0                 1   \n",
              "4                   0                    0                 1   \n",
              "...               ...                  ...               ...   \n",
              "1057                0                    0                 1   \n",
              "1058                0                    0                 1   \n",
              "1059                0                    0                 1   \n",
              "1060                0                    0                 1   \n",
              "1061                0                    0                 1   \n",
              "\n",
              "      frontzarbekhorde  frontchasisrangshode  third_party_insurance_due  \\\n",
              "0                    0                     0                          1   \n",
              "1                    0                     0                         12   \n",
              "2                    0                     0                          4   \n",
              "3                    0                     0                          9   \n",
              "4                    0                     0                          7   \n",
              "...                ...                   ...                        ...   \n",
              "1057                 0                     0                          6   \n",
              "1058                 0                     0                          8   \n",
              "1059                 0                     0                          9   \n",
              "1060                 0                     0                          3   \n",
              "1061                 0                     0                         11   \n",
              "\n",
              "      dandeyi  automatic  \n",
              "0           1          0  \n",
              "1           1          0  \n",
              "2           1          0  \n",
              "3           1          0  \n",
              "4           1          0  \n",
              "...       ...        ...  \n",
              "1057        1          0  \n",
              "1058        1          0  \n",
              "1059        1          0  \n",
              "1060        1          0  \n",
              "1061        1          0  \n",
              "\n",
              "[1062 rows x 60 columns]"
            ]
          },
          "execution_count": 7,
          "metadata": {},
          "output_type": "execute_result"
        }
      ],
      "source": [
        "x"
      ]
    },
    {
      "cell_type": "code",
      "execution_count": 8,
      "metadata": {
        "colab": {
          "base_uri": "https://localhost:8080/"
        },
        "id": "czDeTYEmR0UT",
        "outputId": "6a84ac7e-07f4-4b8e-b13e-bc0051df57de"
      },
      "outputs": [
        {
          "data": {
            "text/plain": [
              "0       108000000\n",
              "1        62000000\n",
              "2        86000000\n",
              "3       100000000\n",
              "4       112000000\n",
              "          ...    \n",
              "1057     72000000\n",
              "1058     65000000\n",
              "1059     92000000\n",
              "1060     85000000\n",
              "1061     89000000\n",
              "Name: cash_cost, Length: 1062, dtype: int64"
            ]
          },
          "execution_count": 8,
          "metadata": {},
          "output_type": "execute_result"
        }
      ],
      "source": [
        "y"
      ]
    },
    {
      "cell_type": "code",
      "execution_count": 10,
      "metadata": {
        "id": "irEaTQiIQvBt"
      },
      "outputs": [],
      "source": [
        "from sklearn.model_selection import train_test_split\n",
        "\n",
        "X_train, X_test, y_train, y_test = train_test_split(x,y , random_state=4,test_size=0.2, shuffle=True)"
      ]
    },
    {
      "cell_type": "code",
      "execution_count": 26,
      "metadata": {
        "colab": {
          "base_uri": "https://localhost:8080/"
        },
        "id": "Z_TNOSPVR8E0",
        "outputId": "312dfd3b-be06-4cf3-b756-6f967976ef09"
      },
      "outputs": [
        {
          "name": "stdout",
          "output_type": "stream",
          "text": [
            "8191257.426197183\n"
          ]
        }
      ],
      "source": [
        "from sklearn.ensemble import RandomForestRegressor\n",
        "from sklearn.metrics import mean_absolute_error\n",
        "\n",
        "regressor = RandomForestRegressor(criterion='absolute_error',n_estimators = 200, max_depth=10)\n",
        "regressor.fit(X_train,y_train)\n",
        "y_pred = regressor.predict(X_test)\n",
        "print(mean_absolute_error(y_test, y_pred))\n",
        "# cross_val_score(regressor, X, y, cv=10)"
      ]
    },
    {
      "cell_type": "code",
      "execution_count": 18,
      "metadata": {
        "colab": {
          "base_uri": "https://localhost:8080/"
        },
        "id": "dxPT4IF9XPoR",
        "outputId": "cb403ebc-4d0e-4d32-d7df-1027ffc437eb"
      },
      "outputs": [
        {
          "data": {
            "text/plain": [
              "95000000"
            ]
          },
          "execution_count": 18,
          "metadata": {},
          "output_type": "execute_result"
        }
      ],
      "source": [
        "y_test.iloc[28]"
      ]
    },
    {
      "cell_type": "code",
      "execution_count": 19,
      "metadata": {
        "colab": {
          "base_uri": "https://localhost:8080/"
        },
        "id": "5Ch1yk4NWtXa",
        "outputId": "c9c16a06-9055-4c1f-ef42-0d6dd41f7ed8"
      },
      "outputs": [
        {
          "data": {
            "text/plain": [
              "year                           1387\n",
              "abi                               0\n",
              "albaluyi                          0\n",
              "atlasi                            0\n",
              "bademjani                         0\n",
              "boronz                            0\n",
              "bezh                              0\n",
              "banafsh                           0\n",
              "poostpiyazi                       0\n",
              "titanium                          0\n",
              "khakestari                        0\n",
              "khaki                             0\n",
              "dolfini                           0\n",
              "zoghali                           0\n",
              "zard                              0\n",
              "zereshki                          0\n",
              "zeytooni                          0\n",
              "sabz                              0\n",
              "sorbi                             0\n",
              "sormeyi                           0\n",
              "sefid                             0\n",
              "sefidsadafi                       0\n",
              "talayi                            0\n",
              "toosi                             0\n",
              "adasi                             0\n",
              "annabi                            0\n",
              "ghermez                           0\n",
              "ghahveyi                          0\n",
              "carbonblack                       0\n",
              "kerem                             0\n",
              "gilasi                            0\n",
              "mesi                              0\n",
              "meshki                            0\n",
              "moka                              0\n",
              "narenji                           0\n",
              "nograbi                           0\n",
              "noghreyi                          1\n",
              "nookmedadi                        0\n",
              "yashmi                            0\n",
              "usage_km                     290000\n",
              "badanesalem                       0\n",
              "khatkhashjozi                     1\n",
              "safkaribirang                     0\n",
              "rangshodegi                       0\n",
              "dorrang                           0\n",
              "tamamrang                         0\n",
              "tasadofi                          0\n",
              "oraghi                            0\n",
              "motorsalem                        1\n",
              "niyazbetaamir                     0\n",
              "taavizshode                       0\n",
              "rearchasissalem                   1\n",
              "rearzarbekhorde                   0\n",
              "rearchasisrangshode               0\n",
              "frontchasissalem                  1\n",
              "frontzarbekhorde                  0\n",
              "frontchasisrangshode              0\n",
              "third_party_insurance_due         9\n",
              "dandeyi                           0\n",
              "automatic                         1\n",
              "Name: 744, dtype: int64"
            ]
          },
          "execution_count": 19,
          "metadata": {},
          "output_type": "execute_result"
        }
      ],
      "source": [
        "X_test.iloc[28]"
      ]
    },
    {
      "cell_type": "code",
      "execution_count": 20,
      "metadata": {
        "colab": {
          "base_uri": "https://localhost:8080/"
        },
        "id": "2f_sDDqTWWvB",
        "outputId": "c5bc5b54-addb-4dda-d4ce-a4238b948bc3"
      },
      "outputs": [
        {
          "name": "stdout",
          "output_type": "stream",
          "text": [
            "[94221250.]\n"
          ]
        },
        {
          "name": "stderr",
          "output_type": "stream",
          "text": [
            "/home/mehdi/.local/lib/python3.9/site-packages/sklearn/base.py:450: UserWarning: X does not have valid feature names, but RandomForestRegressor was fitted with feature names\n",
            "  warnings.warn(\n"
          ]
        }
      ],
      "source": [
        "print(regressor.predict([X_test.iloc[28]]))"
      ]
    },
    {
      "cell_type": "markdown",
      "metadata": {
        "id": "6SIr5m-kgvWL"
      },
      "source": [
        "# Model import / export section"
      ]
    },
    {
      "cell_type": "code",
      "execution_count": 21,
      "metadata": {
        "id": "5sVxS1RJg5Lz"
      },
      "outputs": [],
      "source": [
        "from joblib import dump, load"
      ]
    },
    {
      "cell_type": "code",
      "execution_count": 22,
      "metadata": {
        "colab": {
          "base_uri": "https://localhost:8080/"
        },
        "id": "d8xcJEhPfaIO",
        "outputId": "d3de6811-86c3-42f8-8c35-1fa435ec6909"
      },
      "outputs": [
        {
          "data": {
            "text/plain": [
              "['./model.joblib']"
            ]
          },
          "execution_count": 22,
          "metadata": {},
          "output_type": "execute_result"
        }
      ],
      "source": [
        "# exporting the model\n",
        "\n",
        "dump(regressor, './model.joblib') \n"
      ]
    },
    {
      "cell_type": "code",
      "execution_count": 23,
      "metadata": {
        "id": "1eRXa8qcfcqY"
      },
      "outputs": [],
      "source": [
        "# importing the model\n",
        "clf = load('./model.joblib') "
      ]
    },
    {
      "cell_type": "code",
      "execution_count": 25,
      "metadata": {
        "colab": {
          "base_uri": "https://localhost:8080/"
        },
        "id": "2kPIw3Ccfcmy",
        "outputId": "2a149b6b-1031-476f-a8a0-cb88ebc5ef97"
      },
      "outputs": [
        {
          "name": "stdout",
          "output_type": "stream",
          "text": [
            "[87571000.]\n"
          ]
        },
        {
          "name": "stderr",
          "output_type": "stream",
          "text": [
            "/home/mehdi/.local/lib/python3.9/site-packages/sklearn/base.py:450: UserWarning: X does not have valid feature names, but RandomForestRegressor was fitted with feature names\n",
            "  warnings.warn(\n"
          ]
        }
      ],
      "source": [
        "# getting input - separating with commas - predicting with loaded model - printing the output\n",
        "a = input()\n",
        "a = a.split(',')\n",
        "output = clf.predict([a])\n",
        "print(output)"
      ]
    },
    {
      "cell_type": "code",
      "execution_count": null,
      "metadata": {
        "id": "zHwEzllrfckY"
      },
      "outputs": [],
      "source": []
    }
  ],
  "metadata": {
    "colab": {
      "provenance": []
    },
    "kernelspec": {
      "display_name": "Python 3",
      "language": "python",
      "name": "python3"
    },
    "language_info": {
      "codemirror_mode": {
        "name": "ipython",
        "version": 3
      },
      "file_extension": ".py",
      "mimetype": "text/x-python",
      "name": "python",
      "nbconvert_exporter": "python",
      "pygments_lexer": "ipython3",
      "version": "3.9.2 (default, Feb 28 2021, 17:03:44) \n[GCC 10.2.1 20210110]"
    },
    "vscode": {
      "interpreter": {
        "hash": "31f2aee4e71d21fbe5cf8b01ff0e069b9275f58929596ceb00d14d90e3e16cd6"
      }
    },
    "widgets": {
      "application/vnd.jupyter.widget-state+json": {
        "0723e03b4ed2426eb8189e0161d3948d": {
          "model_module": "@jupyter-widgets/controls",
          "model_module_version": "1.5.0",
          "model_name": "ProgressStyleModel",
          "state": {
            "_model_module": "@jupyter-widgets/controls",
            "_model_module_version": "1.5.0",
            "_model_name": "ProgressStyleModel",
            "_view_count": null,
            "_view_module": "@jupyter-widgets/base",
            "_view_module_version": "1.2.0",
            "_view_name": "StyleView",
            "bar_color": null,
            "description_width": ""
          }
        },
        "08566a7c9dfa4af598fdc4364fc157a4": {
          "model_module": "@jupyter-widgets/controls",
          "model_module_version": "1.5.0",
          "model_name": "IntProgressModel",
          "state": {
            "_dom_classes": [],
            "_model_module": "@jupyter-widgets/controls",
            "_model_module_version": "1.5.0",
            "_model_name": "IntProgressModel",
            "_view_count": null,
            "_view_module": "@jupyter-widgets/controls",
            "_view_module_version": "1.5.0",
            "_view_name": "ProgressView",
            "bar_style": "",
            "description": "Processing: ",
            "description_tooltip": null,
            "layout": "IPY_MODEL_c51877d1819e4067a38a516067d748cd",
            "max": 104,
            "min": 0,
            "orientation": "horizontal",
            "style": "IPY_MODEL_0723e03b4ed2426eb8189e0161d3948d",
            "value": 104
          }
        },
        "2b9d770d473f46639fc0103e93ac9d62": {
          "model_module": "@jupyter-widgets/controls",
          "model_module_version": "1.5.0",
          "model_name": "IntProgressModel",
          "state": {
            "_dom_classes": [],
            "_model_module": "@jupyter-widgets/controls",
            "_model_module_version": "1.5.0",
            "_model_name": "IntProgressModel",
            "_view_count": null,
            "_view_module": "@jupyter-widgets/controls",
            "_view_module_version": "1.5.0",
            "_view_name": "ProgressView",
            "bar_style": "",
            "description": "Processing: ",
            "description_tooltip": null,
            "layout": "IPY_MODEL_b0b40440067d4dc0be7e95fe536b1ab2",
            "max": 3,
            "min": 0,
            "orientation": "horizontal",
            "style": "IPY_MODEL_8e7290d7433f49e2a0b5c77b3c074310",
            "value": 3
          }
        },
        "363d110d83c240248f8ae6812a7e176c": {
          "model_module": "@jupyter-widgets/controls",
          "model_module_version": "1.5.0",
          "model_name": "DescriptionStyleModel",
          "state": {
            "_model_module": "@jupyter-widgets/controls",
            "_model_module_version": "1.5.0",
            "_model_name": "DescriptionStyleModel",
            "_view_count": null,
            "_view_module": "@jupyter-widgets/base",
            "_view_module_version": "1.2.0",
            "_view_name": "StyleView",
            "description_width": ""
          }
        },
        "607f683d14f7436bb3aac928e0c697b9": {
          "model_module": "@jupyter-widgets/base",
          "model_module_version": "1.2.0",
          "model_name": "LayoutModel",
          "state": {
            "_model_module": "@jupyter-widgets/base",
            "_model_module_version": "1.2.0",
            "_model_name": "LayoutModel",
            "_view_count": null,
            "_view_module": "@jupyter-widgets/base",
            "_view_module_version": "1.2.0",
            "_view_name": "LayoutView",
            "align_content": null,
            "align_items": null,
            "align_self": null,
            "border": null,
            "bottom": null,
            "display": null,
            "flex": null,
            "flex_flow": null,
            "grid_area": null,
            "grid_auto_columns": null,
            "grid_auto_flow": null,
            "grid_auto_rows": null,
            "grid_column": null,
            "grid_gap": null,
            "grid_row": null,
            "grid_template_areas": null,
            "grid_template_columns": null,
            "grid_template_rows": null,
            "height": null,
            "justify_content": null,
            "justify_items": null,
            "left": null,
            "margin": null,
            "max_height": null,
            "max_width": null,
            "min_height": null,
            "min_width": null,
            "object_fit": null,
            "object_position": null,
            "order": null,
            "overflow": null,
            "overflow_x": null,
            "overflow_y": null,
            "padding": null,
            "right": null,
            "top": null,
            "visibility": null,
            "width": "100%"
          }
        },
        "8e7290d7433f49e2a0b5c77b3c074310": {
          "model_module": "@jupyter-widgets/controls",
          "model_module_version": "1.5.0",
          "model_name": "ProgressStyleModel",
          "state": {
            "_model_module": "@jupyter-widgets/controls",
            "_model_module_version": "1.5.0",
            "_model_name": "ProgressStyleModel",
            "_view_count": null,
            "_view_module": "@jupyter-widgets/base",
            "_view_module_version": "1.2.0",
            "_view_name": "StyleView",
            "bar_color": null,
            "description_width": ""
          }
        },
        "b0b40440067d4dc0be7e95fe536b1ab2": {
          "model_module": "@jupyter-widgets/base",
          "model_module_version": "1.2.0",
          "model_name": "LayoutModel",
          "state": {
            "_model_module": "@jupyter-widgets/base",
            "_model_module_version": "1.2.0",
            "_model_name": "LayoutModel",
            "_view_count": null,
            "_view_module": "@jupyter-widgets/base",
            "_view_module_version": "1.2.0",
            "_view_name": "LayoutView",
            "align_content": null,
            "align_items": null,
            "align_self": null,
            "border": null,
            "bottom": null,
            "display": null,
            "flex": null,
            "flex_flow": null,
            "grid_area": null,
            "grid_auto_columns": null,
            "grid_auto_flow": null,
            "grid_auto_rows": null,
            "grid_column": null,
            "grid_gap": null,
            "grid_row": null,
            "grid_template_areas": null,
            "grid_template_columns": null,
            "grid_template_rows": null,
            "height": null,
            "justify_content": null,
            "justify_items": null,
            "left": null,
            "margin": null,
            "max_height": null,
            "max_width": null,
            "min_height": null,
            "min_width": null,
            "object_fit": null,
            "object_position": null,
            "order": null,
            "overflow": null,
            "overflow_x": null,
            "overflow_y": null,
            "padding": null,
            "right": null,
            "top": null,
            "visibility": null,
            "width": null
          }
        },
        "c51877d1819e4067a38a516067d748cd": {
          "model_module": "@jupyter-widgets/base",
          "model_module_version": "1.2.0",
          "model_name": "LayoutModel",
          "state": {
            "_model_module": "@jupyter-widgets/base",
            "_model_module_version": "1.2.0",
            "_model_name": "LayoutModel",
            "_view_count": null,
            "_view_module": "@jupyter-widgets/base",
            "_view_module_version": "1.2.0",
            "_view_name": "LayoutView",
            "align_content": null,
            "align_items": null,
            "align_self": null,
            "border": null,
            "bottom": null,
            "display": null,
            "flex": null,
            "flex_flow": null,
            "grid_area": null,
            "grid_auto_columns": null,
            "grid_auto_flow": null,
            "grid_auto_rows": null,
            "grid_column": null,
            "grid_gap": null,
            "grid_row": null,
            "grid_template_areas": null,
            "grid_template_columns": null,
            "grid_template_rows": null,
            "height": null,
            "justify_content": null,
            "justify_items": null,
            "left": null,
            "margin": null,
            "max_height": null,
            "max_width": null,
            "min_height": null,
            "min_width": null,
            "object_fit": null,
            "object_position": null,
            "order": null,
            "overflow": null,
            "overflow_x": null,
            "overflow_y": null,
            "padding": null,
            "right": null,
            "top": null,
            "visibility": null,
            "width": null
          }
        },
        "cc64cc24f0804eea84e32f15f69b7930": {
          "model_module": "@jupyter-widgets/controls",
          "model_module_version": "1.5.0",
          "model_name": "TextModel",
          "state": {
            "_dom_classes": [],
            "_model_module": "@jupyter-widgets/controls",
            "_model_module_version": "1.5.0",
            "_model_name": "TextModel",
            "_view_count": null,
            "_view_module": "@jupyter-widgets/controls",
            "_view_module_version": "1.5.0",
            "_view_name": "TextView",
            "continuous_update": true,
            "description": "",
            "description_tooltip": null,
            "disabled": false,
            "layout": "IPY_MODEL_607f683d14f7436bb3aac928e0c697b9",
            "placeholder": "​",
            "style": "IPY_MODEL_363d110d83c240248f8ae6812a7e176c",
            "value": "Following data types have been inferred automatically, if they are correct press enter to continue or type 'quit' otherwise."
          }
        }
      }
    }
  },
  "nbformat": 4,
  "nbformat_minor": 0
}
